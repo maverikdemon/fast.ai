{
 "cells": [
  {
   "cell_type": "markdown",
   "metadata": {},
   "source": [
    "# AMAZON MUSIC REVIEWS"
   ]
  },
  {
   "cell_type": "code",
   "execution_count": 3,
   "metadata": {},
   "outputs": [],
   "source": [
    "%reload_ext autoreload\n",
    "%autoreload 2\n",
    "%matplotlib inline"
   ]
  },
  {
   "cell_type": "code",
   "execution_count": 4,
   "metadata": {},
   "outputs": [],
   "source": [
    "from fastai.text import *"
   ]
  },
  {
   "cell_type": "code",
   "execution_count": 5,
   "metadata": {},
   "outputs": [],
   "source": [
    "path = Path('home/storage')\n",
    "folder = 'amazon_music_reviews'\n",
    "file = 'Musical_instrument_reviews2.csv'\n",
    "dest = path/folder\n",
    "dest.mkdir(parents=True, exist_ok=True)"
   ]
  },
  {
   "cell_type": "code",
   "execution_count": 6,
   "metadata": {},
   "outputs": [
    {
     "data": {
      "text/plain": [
       "PosixPath('/storage/amazon_music_reviews')"
      ]
     },
     "execution_count": 6,
     "metadata": {},
     "output_type": "execute_result"
    }
   ],
   "source": [
    "path = Config.data_path()/'amazon_music_reviews'\n",
    "path.mkdir(parents=True, exist_ok=True)\n",
    "path"
   ]
  },
  {
   "cell_type": "code",
   "execution_count": 7,
   "metadata": {},
   "outputs": [
    {
     "data": {
      "text/html": [
       "<div>\n",
       "<style scoped>\n",
       "    .dataframe tbody tr th:only-of-type {\n",
       "        vertical-align: middle;\n",
       "    }\n",
       "\n",
       "    .dataframe tbody tr th {\n",
       "        vertical-align: top;\n",
       "    }\n",
       "\n",
       "    .dataframe thead th {\n",
       "        text-align: right;\n",
       "    }\n",
       "</style>\n",
       "<table border=\"1\" class=\"dataframe\">\n",
       "  <thead>\n",
       "    <tr style=\"text-align: right;\">\n",
       "      <th></th>\n",
       "      <th>overall</th>\n",
       "      <th>reviewText</th>\n",
       "      <th>Unnamed: 2</th>\n",
       "      <th>summary</th>\n",
       "      <th>unixReviewTime</th>\n",
       "      <th>reviewTime</th>\n",
       "      <th>reviewerID</th>\n",
       "      <th>Unnamed: 7</th>\n",
       "    </tr>\n",
       "  </thead>\n",
       "  <tbody>\n",
       "    <tr>\n",
       "      <th>0</th>\n",
       "      <td>5</td>\n",
       "      <td>Not much to write about here, but it does exac...</td>\n",
       "      <td>NaN</td>\n",
       "      <td>good</td>\n",
       "      <td>1393545600</td>\n",
       "      <td>02 28, 2014</td>\n",
       "      <td>A2IBPI20UZIR0U</td>\n",
       "      <td>0.0</td>\n",
       "    </tr>\n",
       "    <tr>\n",
       "      <th>1</th>\n",
       "      <td>5</td>\n",
       "      <td>The product does exactly as it should and is q...</td>\n",
       "      <td>NaN</td>\n",
       "      <td>Jake</td>\n",
       "      <td>1363392000</td>\n",
       "      <td>03 16, 2013</td>\n",
       "      <td>A14VAT5EAX3D9S</td>\n",
       "      <td>NaN</td>\n",
       "    </tr>\n",
       "    <tr>\n",
       "      <th>2</th>\n",
       "      <td>5</td>\n",
       "      <td>The primary job of this device is to block the...</td>\n",
       "      <td>NaN</td>\n",
       "      <td>It Does The Job Well</td>\n",
       "      <td>1377648000</td>\n",
       "      <td>08 28, 2013</td>\n",
       "      <td>A195EZSQDW3E21</td>\n",
       "      <td>NaN</td>\n",
       "    </tr>\n",
       "    <tr>\n",
       "      <th>3</th>\n",
       "      <td>5</td>\n",
       "      <td>Nice windscreen protects my MXL mic and preven...</td>\n",
       "      <td>NaN</td>\n",
       "      <td>GOOD WINDSCREEN FOR THE MONEY</td>\n",
       "      <td>1392336000</td>\n",
       "      <td>02 14, 2014</td>\n",
       "      <td>A2C00NNG1ZQQG2</td>\n",
       "      <td>NaN</td>\n",
       "    </tr>\n",
       "    <tr>\n",
       "      <th>4</th>\n",
       "      <td>5</td>\n",
       "      <td>This pop filter is great. It looks and perform...</td>\n",
       "      <td>NaN</td>\n",
       "      <td>No more pops when I record my vocals.</td>\n",
       "      <td>1392940800</td>\n",
       "      <td>02 21, 2014</td>\n",
       "      <td>A94QU4C90B1AX</td>\n",
       "      <td>NaN</td>\n",
       "    </tr>\n",
       "  </tbody>\n",
       "</table>\n",
       "</div>"
      ],
      "text/plain": [
       "   overall                                         reviewText  Unnamed: 2  \\\n",
       "0        5  Not much to write about here, but it does exac...         NaN   \n",
       "1        5  The product does exactly as it should and is q...         NaN   \n",
       "2        5  The primary job of this device is to block the...         NaN   \n",
       "3        5  Nice windscreen protects my MXL mic and preven...         NaN   \n",
       "4        5  This pop filter is great. It looks and perform...         NaN   \n",
       "\n",
       "                                 summary  unixReviewTime   reviewTime  \\\n",
       "0                                   good      1393545600  02 28, 2014   \n",
       "1                                   Jake      1363392000  03 16, 2013   \n",
       "2                   It Does The Job Well      1377648000  08 28, 2013   \n",
       "3          GOOD WINDSCREEN FOR THE MONEY      1392336000  02 14, 2014   \n",
       "4  No more pops when I record my vocals.      1392940800  02 21, 2014   \n",
       "\n",
       "       reviewerID  Unnamed: 7  \n",
       "0  A2IBPI20UZIR0U         0.0  \n",
       "1  A14VAT5EAX3D9S         NaN  \n",
       "2  A195EZSQDW3E21         NaN  \n",
       "3  A2C00NNG1ZQQG2         NaN  \n",
       "4   A94QU4C90B1AX         NaN  "
      ]
     },
     "execution_count": 7,
     "metadata": {},
     "output_type": "execute_result"
    }
   ],
   "source": [
    "df = pd.read_csv(path/'Musical_instruments_reviews2.csv')\n",
    "df.head()"
   ]
  },
  {
   "cell_type": "code",
   "execution_count": 8,
   "metadata": {},
   "outputs": [
    {
     "data": {
      "text/plain": [
       "\"This pop filter is great. It looks and performs like a studio filter. If you're recording vocals this will eliminate the pops that gets recorded when you sing.\""
      ]
     },
     "execution_count": 8,
     "metadata": {},
     "output_type": "execute_result"
    }
   ],
   "source": [
    "df['reviewText'][4]"
   ]
  },
  {
   "cell_type": "code",
   "execution_count": 9,
   "metadata": {},
   "outputs": [
    {
     "data": {
      "text/html": [],
      "text/plain": [
       "<IPython.core.display.HTML object>"
      ]
     },
     "metadata": {},
     "output_type": "display_data"
    },
    {
     "data": {
      "text/html": [],
      "text/plain": [
       "<IPython.core.display.HTML object>"
      ]
     },
     "metadata": {},
     "output_type": "display_data"
    }
   ],
   "source": [
    "data_lm = TextDataBunch.from_csv(path, 'Musical_instruments_reviews2.csv')"
   ]
  },
  {
   "cell_type": "code",
   "execution_count": 10,
   "metadata": {},
   "outputs": [],
   "source": [
    "data_lm.save()"
   ]
  },
  {
   "cell_type": "code",
   "execution_count": 11,
   "metadata": {},
   "outputs": [],
   "source": [
    "data = load_data(path)"
   ]
  },
  {
   "cell_type": "code",
   "execution_count": 12,
   "metadata": {},
   "outputs": [
    {
     "data": {
      "text/plain": [
       "\"Not much to write about here, but it does exactly what it's supposed to. filters out the pop sounds. now my recordings are much more crisp. it is one of the lowest prices pop filters on amazon so might as well buy it, they honestly work the same despite their pricing,\""
      ]
     },
     "execution_count": 12,
     "metadata": {},
     "output_type": "execute_result"
    }
   ],
   "source": [
    "example_text = df.iloc[0][1]; example_text"
   ]
  },
  {
   "cell_type": "code",
   "execution_count": 13,
   "metadata": {},
   "outputs": [
    {
     "data": {
      "text/plain": [
       "\"xxmaj not much to write about here , but it does exactly what it 's supposed to . filters out the pop sounds . now my recordings are much more crisp . it is one of the lowest prices pop filters on amazon so might as well buy it , they honestly work the same despite their pricing ,\""
      ]
     },
     "execution_count": 13,
     "metadata": {},
     "output_type": "execute_result"
    }
   ],
   "source": [
    "tokenizer = Tokenizer()\n",
    "tok = SpacyTokenizer('en')\n",
    "' '.join(tokenizer.process_text(example_text, tok))"
   ]
  },
  {
   "cell_type": "code",
   "execution_count": 14,
   "metadata": {},
   "outputs": [
    {
     "data": {
      "text/plain": [
       "'xxmaj these strings are really quite good , but i would n\\'t call them perfect . xxmaj the unwound strings are not quite as bright as i am accustomed to , but they still ring nicely . xxmaj this is the only complaint i have about these strings . xxmaj if the unwound strings were a tiny bit brighter , these would be 5-star strings . xxmaj as it stands , i give them 4.5 stars ... not a big knock , actually . xxmaj the low - end on the wound strings is very nice and quite warm . i put these on a jumbo and it definitely accentuates the \" jumbo \" aspect of my acoustic . xxmaj the sound is very big , full , and nice . xxmaj definitely a recommended product!4.5 / 5 stars'"
      ]
     },
     "execution_count": 14,
     "metadata": {},
     "output_type": "execute_result"
    }
   ],
   "source": [
    "df = pd.read_csv(path/'Musical_instruments_reviews2.csv', header=None)\n",
    "texts = df[1].values\n",
    "tokenizer = Tokenizer()\n",
    "tokens = tokenizer.process_all(texts)\n",
    "' '.join(tokens[10261])"
   ]
  },
  {
   "cell_type": "code",
   "execution_count": 15,
   "metadata": {},
   "outputs": [
    {
     "data": {
      "text/html": [],
      "text/plain": [
       "<IPython.core.display.HTML object>"
      ]
     },
     "metadata": {},
     "output_type": "display_data"
    },
    {
     "data": {
      "text/html": [],
      "text/plain": [
       "<IPython.core.display.HTML object>"
      ]
     },
     "metadata": {},
     "output_type": "display_data"
    },
    {
     "data": {
      "text/html": [
       "<table border=\"1\" class=\"dataframe\">\n",
       "  <thead>\n",
       "    <tr style=\"text-align: right;\">\n",
       "      <th>text</th>\n",
       "      <th>target</th>\n",
       "    </tr>\n",
       "  </thead>\n",
       "  <tbody>\n",
       "    <tr>\n",
       "      <td>xxbos i use this little guy in connection with my xxup daw and digital piano . i run the piano sounds through balanced cables into the line - in ports for recording , and i also run xxup vst xxunk on my xxup daw that i trigger via xxup usb xxup midi from the piano and use this device for digital / audio conversion . i listen through xxmaj xxunk</td>\n",
       "      <td>3</td>\n",
       "    </tr>\n",
       "    <tr>\n",
       "      <td>xxbos i love this capo . xxmaj let me tell you about my capo journey where i 've used every brand while searching for this one . xxmaj first , i always owned the old xxmaj dunlop xxmaj toggle xxmaj action capo which is just old tech , you know , where it 's just a bundle of synthetic cotton fiber , the kind one used to use before 1980</td>\n",
       "      <td>5</td>\n",
       "    </tr>\n",
       "    <tr>\n",
       "      <td>xxbos xxmaj what you need to know about this xxunk ) xxmaj this mic is very directional . xxmaj you must keep your mouth in the sweet spot at all times for best results . xxmaj pulling back an inch gets into tinny muddy territory , and an inch too close makes for a strong proximity effect . i found that a palm 's width from the tip of the</td>\n",
       "      <td>5</td>\n",
       "    </tr>\n",
       "    <tr>\n",
       "      <td>xxbos i only just received these , but thought i 'd give my first impression . i purchased headphones because i figured it was a more pleasant way to listen to music at work than in - ear type . i chose this model because they were on sale , seemed to be a diamond in the rough , and reviews indicated it would be good for large xxunk wear</td>\n",
       "      <td>3</td>\n",
       "    </tr>\n",
       "    <tr>\n",
       "      <td>xxbos i purchased this instrument brand new , on an impulse whim due to a xxunk - choice sale at a local music shop that i simply could not ignore . xxmaj it was brand new , unopened , in box . xxmaj they allowed me to examine it prior to purchase . xxmaj in that environment i thought it a nice instrument . xxmaj however , it can be</td>\n",
       "      <td>2</td>\n",
       "    </tr>\n",
       "  </tbody>\n",
       "</table>"
      ],
      "text/plain": [
       "<IPython.core.display.HTML object>"
      ]
     },
     "metadata": {},
     "output_type": "display_data"
    }
   ],
   "source": [
    "data = TextClasDataBunch.from_csv(path, 'Musical_instruments_reviews2.csv')\n",
    "data.show_batch()"
   ]
  },
  {
   "cell_type": "code",
   "execution_count": 16,
   "metadata": {},
   "outputs": [
    {
     "data": {
      "text/plain": [
       "['xxunk',\n",
       " 'xxpad',\n",
       " 'xxbos',\n",
       " 'xxeos',\n",
       " 'xxfld',\n",
       " 'xxmaj',\n",
       " 'xxup',\n",
       " 'xxrep',\n",
       " 'xxwrep',\n",
       " '.']"
      ]
     },
     "execution_count": 16,
     "metadata": {},
     "output_type": "execute_result"
    }
   ],
   "source": [
    "data.vocab.itos[:10]"
   ]
  },
  {
   "cell_type": "code",
   "execution_count": 17,
   "metadata": {},
   "outputs": [
    {
     "data": {
      "text/plain": [
       "Text xxbos xxmaj these are my favorite strings to use on my xxmaj american xxmaj strat ! xxmaj they feel great , sound great , and are extremely cheap ! i would definately recommend these strings to any electric guitar user ... buy a pack and try them out ! xxmaj for less than $ 4 , you can see if they work well for you !"
      ]
     },
     "execution_count": 17,
     "metadata": {},
     "output_type": "execute_result"
    }
   ],
   "source": [
    "data.train_ds[0][0]"
   ]
  },
  {
   "cell_type": "code",
   "execution_count": 18,
   "metadata": {},
   "outputs": [
    {
     "data": {
      "text/plain": [
       "array([  2,   5,  39,  31,  24, 553,  56,  16,  49,  23])"
      ]
     },
     "execution_count": 18,
     "metadata": {},
     "output_type": "execute_result"
    }
   ],
   "source": [
    "data.train_ds[0][0].data[:10]"
   ]
  },
  {
   "cell_type": "code",
   "execution_count": 19,
   "metadata": {},
   "outputs": [
    {
     "data": {
      "text/html": [],
      "text/plain": [
       "<IPython.core.display.HTML object>"
      ]
     },
     "metadata": {},
     "output_type": "display_data"
    },
    {
     "data": {
      "text/html": [],
      "text/plain": [
       "<IPython.core.display.HTML object>"
      ]
     },
     "metadata": {},
     "output_type": "display_data"
    }
   ],
   "source": [
    "data = TextLMDataBunch.from_csv(path, 'Musical_instruments_reviews2.csv')\n",
    "learn = language_model_learner(data, AWD_LSTM, drop_mult=0.5)"
   ]
  },
  {
   "cell_type": "code",
   "execution_count": 20,
   "metadata": {},
   "outputs": [
    {
     "data": {
      "text/html": [],
      "text/plain": [
       "<IPython.core.display.HTML object>"
      ]
     },
     "metadata": {},
     "output_type": "display_data"
    },
    {
     "data": {
      "text/html": [],
      "text/plain": [
       "<IPython.core.display.HTML object>"
      ]
     },
     "metadata": {},
     "output_type": "display_data"
    }
   ],
   "source": [
    "data_clas = TextClasDataBunch.from_csv(path, 'Musical_instruments_reviews2.csv', vocab=data_lm.train_ds.vocab, bs=2)\n",
    "#data_lm.train_ds.vocab"
   ]
  },
  {
   "cell_type": "code",
   "execution_count": 21,
   "metadata": {},
   "outputs": [],
   "source": [
    "data_lm.save('data_lm_export.pkl')\n",
    "data_clas.save('data_clas_export.pkl')"
   ]
  },
  {
   "cell_type": "code",
   "execution_count": 22,
   "metadata": {},
   "outputs": [
    {
     "data": {
      "text/html": [
       "<table border=\"1\" class=\"dataframe\">\n",
       "  <thead>\n",
       "    <tr style=\"text-align: left;\">\n",
       "      <th>epoch</th>\n",
       "      <th>train_loss</th>\n",
       "      <th>valid_loss</th>\n",
       "      <th>accuracy</th>\n",
       "      <th>time</th>\n",
       "    </tr>\n",
       "  </thead>\n",
       "  <tbody>\n",
       "    <tr>\n",
       "      <td>0</td>\n",
       "      <td>4.136683</td>\n",
       "      <td>3.906890</td>\n",
       "      <td>0.265911</td>\n",
       "      <td>00:33</td>\n",
       "    </tr>\n",
       "  </tbody>\n",
       "</table>"
      ],
      "text/plain": [
       "<IPython.core.display.HTML object>"
      ]
     },
     "metadata": {},
     "output_type": "display_data"
    }
   ],
   "source": [
    "learn.fit_one_cycle(1, 1e-2)"
   ]
  },
  {
   "cell_type": "code",
   "execution_count": 23,
   "metadata": {},
   "outputs": [
    {
     "data": {
      "text/html": [
       "<table border=\"1\" class=\"dataframe\">\n",
       "  <thead>\n",
       "    <tr style=\"text-align: left;\">\n",
       "      <th>epoch</th>\n",
       "      <th>train_loss</th>\n",
       "      <th>valid_loss</th>\n",
       "      <th>accuracy</th>\n",
       "      <th>time</th>\n",
       "    </tr>\n",
       "  </thead>\n",
       "  <tbody>\n",
       "    <tr>\n",
       "      <td>0</td>\n",
       "      <td>3.793408</td>\n",
       "      <td>3.761133</td>\n",
       "      <td>0.282787</td>\n",
       "      <td>00:34</td>\n",
       "    </tr>\n",
       "  </tbody>\n",
       "</table>"
      ],
      "text/plain": [
       "<IPython.core.display.HTML object>"
      ]
     },
     "metadata": {},
     "output_type": "display_data"
    }
   ],
   "source": [
    "learn.unfreeze()\n",
    "learn.fit_one_cycle(1, 1e-3)"
   ]
  },
  {
   "cell_type": "code",
   "execution_count": 24,
   "metadata": {},
   "outputs": [
    {
     "data": {
      "text/plain": [
       "'I wanted to  make a good tone out of these adjustments for my son with his strumming mandolin and woods . But'"
      ]
     },
     "execution_count": 24,
     "metadata": {},
     "output_type": "execute_result"
    }
   ],
   "source": [
    "learn.predict(\"I wanted to \", n_words=20)"
   ]
  },
  {
   "cell_type": "code",
   "execution_count": 25,
   "metadata": {},
   "outputs": [],
   "source": [
    "data_lm = load_data(path, 'data_lm_export.pkl')\n",
    "data_clas = load_data(path, 'data_clas_export.pkl', bs=2)"
   ]
  },
  {
   "cell_type": "code",
   "execution_count": 26,
   "metadata": {},
   "outputs": [
    {
     "data": {
      "text/plain": [
       "RNNLearner(data=TextClasDataBunch;\n",
       "\n",
       "Train: LabelList (8208 items)\n",
       "x: TextList\n",
       "xxbos i bought this to use on my xxmaj fender p - bass . xxmaj it is not reliable for me , sometimes it works and sometimes it ca n't find the low note correctly . i 'm still using my xxmaj roland stomp box tuner . xxmaj glad this was inexpensive , it was not worth the hassle to return , i gave it away .,xxbos xxmaj with all the other great reviews noted here , i decided to buy this guitar . xxmaj had a xxmaj rogue 12 string a few years ago and sold it as i was not that impressed with it . xxmaj what a difference with the xxmaj epiphone . xxmaj the fit & finish speaks quality . xxmaj xxunk is very good with low action and good tone . xxmaj really is a great buy !,xxbos xxmaj this product is something every guitar owner needs . xxmaj it is well built , performs well and sells at a very reasonable price . xxmaj the sting cutter works well .,xxbos xxmaj noisy as any compressor but after using it i do n't wanna go back to not having one for my setup .,xxbos i have played the guitar for nearly 50 years now , and wanted an inexpensive small - body steel - string guitar to keep out for xxunk practice and noodling . xxmaj this one fills the bill pretty well . xxmaj build quality is quite good ( made in xxmaj indonesia , not xxmaj china as i had expected ) , and the intonation is perfect . xxmaj the finish has a hard matte surface that will probably wear well . a pick guard is present , but when i removed the plastic shipping protector , the entire guard came up with it . xxmaj the adhesive residue comes right off , so i will play the guitar without a pickguard . xxmaj bracing is light -- the entire guitar is light . xxmaj the body is a bit larger in the lower bout than i expected , but it sits on the lap more comfortably than a dreadnought . i take issue with some reviewers ' suggestions that this would be a good beginner guitar right out of the box . xxmaj the string spacing at the nut is narrower than it should be for the width of the neck , xxunk the fingers . xxmaj the nut should be replaced with one that spaces the strings across the fingerboard just a little more . xxmaj the action may be lowered by xxunk the bridge saddle very carefully , and just a little at a time . xxmaj this work will cost as much as the guitar cost if you take it to a luthier , but if you can do it yourself , will improve the playability of the instrument . xxmaj the strings supplied on the guitar were tinny and cheap , so i replaced them with a set of d'addario xxup ej-16 xxmaj light xxmaj phosphor - xxmaj bronze . xxmaj the improvement in tone was immediate -- this little guitar sounds pretty darn good . xxmaj all in all , with some careful modification , this is a good guitar for the beginner or casual player , and a very acceptable one for the experienced guitarist who can do a little modification him / xxunk .\n",
       "y: CategoryList\n",
       "2,5,5,4,4\n",
       "Path: /storage/amazon_music_reviews;\n",
       "\n",
       "Valid: LabelList (2053 items)\n",
       "x: TextList\n",
       "xxbos i 'm pretty impressed with it . i 've only used plug - in types of tuners prior , and this was a nice surprise . i ran this through my ukulele , electric guitars as well as an electric bass . i was blown away how it could tune my bass . xxmaj it works quickly , and it seems pretty accurate compared to my xxmaj xxunk . i would recommend it to anyone . xxmaj took one star off for visibility . xxmaj certain lighting and certain angles can wash out the display very easily .,xxbos i 've been using xxup gls cable for years now and i never had a problem with it . xxmaj they 're good quality cable and will go a long way if you will take care of it .,xxbos xxmaj awesome tuner , really fast and responsive . xxmaj best of all it is accurate , enough so that using this for setups has xxunk in a much quicker easier process than i had anticipated . xxmaj nice and bright so i can clearly see it on stage in the dark . xxmaj occasionally i get a small pop when i engage it but not that frequently . xxmaj this pedal feels good and sturdy too , i really can not see anyone breaking it unless you feel the need to leap from the monitors on to the switch . xxmaj price is easy enough that if anything should happen to it , i would not think twice about picking another one up .,xxbos xxmaj this amp plug is great for the price its 10 ft long the perfect size for jammin at home and it has a quality look to it aesthetically totally worth the price,xxbos i 've used xxup gls products before and they are good quality for a fair price . xxmaj their microphones do a great job for little cost . i 've been impressed . xxmaj these cables did n't disappoint me , either . xxmaj do n't judge their products on price alone . xxmaj try them first . xxmaj you will be pleased and your bank account will thank you .\n",
       "y: CategoryList\n",
       "4,5,5,5,5\n",
       "Path: /storage/amazon_music_reviews;\n",
       "\n",
       "Test: None, model=SequentialRNN(\n",
       "  (0): MultiBatchEncoder(\n",
       "    (module): AWD_LSTM(\n",
       "      (encoder): Embedding(10520, 400, padding_idx=1)\n",
       "      (encoder_dp): EmbeddingDropout(\n",
       "        (emb): Embedding(10520, 400, padding_idx=1)\n",
       "      )\n",
       "      (rnns): ModuleList(\n",
       "        (0): WeightDropout(\n",
       "          (module): LSTM(400, 1152, batch_first=True)\n",
       "        )\n",
       "        (1): WeightDropout(\n",
       "          (module): LSTM(1152, 1152, batch_first=True)\n",
       "        )\n",
       "        (2): WeightDropout(\n",
       "          (module): LSTM(1152, 400, batch_first=True)\n",
       "        )\n",
       "      )\n",
       "      (input_dp): RNNDropout()\n",
       "      (hidden_dps): ModuleList(\n",
       "        (0): RNNDropout()\n",
       "        (1): RNNDropout()\n",
       "        (2): RNNDropout()\n",
       "      )\n",
       "    )\n",
       "  )\n",
       "  (1): PoolingLinearClassifier(\n",
       "    (layers): Sequential(\n",
       "      (0): BatchNorm1d(1200, eps=1e-05, momentum=0.1, affine=True, track_running_stats=True)\n",
       "      (1): Dropout(p=0.2, inplace=False)\n",
       "      (2): Linear(in_features=1200, out_features=50, bias=True)\n",
       "      (3): ReLU(inplace=True)\n",
       "      (4): BatchNorm1d(50, eps=1e-05, momentum=0.1, affine=True, track_running_stats=True)\n",
       "      (5): Dropout(p=0.1, inplace=False)\n",
       "      (6): Linear(in_features=50, out_features=5, bias=True)\n",
       "    )\n",
       "  )\n",
       "), opt_func=functools.partial(<class 'torch.optim.adam.Adam'>, betas=(0.9, 0.99)), loss_func=FlattenedLoss of CrossEntropyLoss(), metrics=[<function accuracy at 0x7f247be4fd90>], true_wd=True, bn_wd=True, wd=0.01, train_bn=True, path=PosixPath('/storage/amazon_music_reviews'), model_dir='models', callback_fns=[functools.partial(<class 'fastai.basic_train.Recorder'>, add_time=True, silent=False)], callbacks=[RNNTrainer\n",
       "learn: RNNLearner(data=TextClasDataBunch;\n",
       "\n",
       "Train: LabelList (8208 items)\n",
       "x: TextList\n",
       "xxbos i bought this to use on my xxmaj fender p - bass . xxmaj it is not reliable for me , sometimes it works and sometimes it ca n't find the low note correctly . i 'm still using my xxmaj roland stomp box tuner . xxmaj glad this was inexpensive , it was not worth the hassle to return , i gave it away .,xxbos xxmaj with all the other great reviews noted here , i decided to buy this guitar . xxmaj had a xxmaj rogue 12 string a few years ago and sold it as i was not that impressed with it . xxmaj what a difference with the xxmaj epiphone . xxmaj the fit & finish speaks quality . xxmaj xxunk is very good with low action and good tone . xxmaj really is a great buy !,xxbos xxmaj this product is something every guitar owner needs . xxmaj it is well built , performs well and sells at a very reasonable price . xxmaj the sting cutter works well .,xxbos xxmaj noisy as any compressor but after using it i do n't wanna go back to not having one for my setup .,xxbos i have played the guitar for nearly 50 years now , and wanted an inexpensive small - body steel - string guitar to keep out for xxunk practice and noodling . xxmaj this one fills the bill pretty well . xxmaj build quality is quite good ( made in xxmaj indonesia , not xxmaj china as i had expected ) , and the intonation is perfect . xxmaj the finish has a hard matte surface that will probably wear well . a pick guard is present , but when i removed the plastic shipping protector , the entire guard came up with it . xxmaj the adhesive residue comes right off , so i will play the guitar without a pickguard . xxmaj bracing is light -- the entire guitar is light . xxmaj the body is a bit larger in the lower bout than i expected , but it sits on the lap more comfortably than a dreadnought . i take issue with some reviewers ' suggestions that this would be a good beginner guitar right out of the box . xxmaj the string spacing at the nut is narrower than it should be for the width of the neck , xxunk the fingers . xxmaj the nut should be replaced with one that spaces the strings across the fingerboard just a little more . xxmaj the action may be lowered by xxunk the bridge saddle very carefully , and just a little at a time . xxmaj this work will cost as much as the guitar cost if you take it to a luthier , but if you can do it yourself , will improve the playability of the instrument . xxmaj the strings supplied on the guitar were tinny and cheap , so i replaced them with a set of d'addario xxup ej-16 xxmaj light xxmaj phosphor - xxmaj bronze . xxmaj the improvement in tone was immediate -- this little guitar sounds pretty darn good . xxmaj all in all , with some careful modification , this is a good guitar for the beginner or casual player , and a very acceptable one for the experienced guitarist who can do a little modification him / xxunk .\n",
       "y: CategoryList\n",
       "2,5,5,4,4\n",
       "Path: /storage/amazon_music_reviews;\n",
       "\n",
       "Valid: LabelList (2053 items)\n",
       "x: TextList\n",
       "xxbos i 'm pretty impressed with it . i 've only used plug - in types of tuners prior , and this was a nice surprise . i ran this through my ukulele , electric guitars as well as an electric bass . i was blown away how it could tune my bass . xxmaj it works quickly , and it seems pretty accurate compared to my xxmaj xxunk . i would recommend it to anyone . xxmaj took one star off for visibility . xxmaj certain lighting and certain angles can wash out the display very easily .,xxbos i 've been using xxup gls cable for years now and i never had a problem with it . xxmaj they 're good quality cable and will go a long way if you will take care of it .,xxbos xxmaj awesome tuner , really fast and responsive . xxmaj best of all it is accurate , enough so that using this for setups has xxunk in a much quicker easier process than i had anticipated . xxmaj nice and bright so i can clearly see it on stage in the dark . xxmaj occasionally i get a small pop when i engage it but not that frequently . xxmaj this pedal feels good and sturdy too , i really can not see anyone breaking it unless you feel the need to leap from the monitors on to the switch . xxmaj price is easy enough that if anything should happen to it , i would not think twice about picking another one up .,xxbos xxmaj this amp plug is great for the price its 10 ft long the perfect size for jammin at home and it has a quality look to it aesthetically totally worth the price,xxbos i 've used xxup gls products before and they are good quality for a fair price . xxmaj their microphones do a great job for little cost . i 've been impressed . xxmaj these cables did n't disappoint me , either . xxmaj do n't judge their products on price alone . xxmaj try them first . xxmaj you will be pleased and your bank account will thank you .\n",
       "y: CategoryList\n",
       "4,5,5,5,5\n",
       "Path: /storage/amazon_music_reviews;\n",
       "\n",
       "Test: None, model=SequentialRNN(\n",
       "  (0): MultiBatchEncoder(\n",
       "    (module): AWD_LSTM(\n",
       "      (encoder): Embedding(10520, 400, padding_idx=1)\n",
       "      (encoder_dp): EmbeddingDropout(\n",
       "        (emb): Embedding(10520, 400, padding_idx=1)\n",
       "      )\n",
       "      (rnns): ModuleList(\n",
       "        (0): WeightDropout(\n",
       "          (module): LSTM(400, 1152, batch_first=True)\n",
       "        )\n",
       "        (1): WeightDropout(\n",
       "          (module): LSTM(1152, 1152, batch_first=True)\n",
       "        )\n",
       "        (2): WeightDropout(\n",
       "          (module): LSTM(1152, 400, batch_first=True)\n",
       "        )\n",
       "      )\n",
       "      (input_dp): RNNDropout()\n",
       "      (hidden_dps): ModuleList(\n",
       "        (0): RNNDropout()\n",
       "        (1): RNNDropout()\n",
       "        (2): RNNDropout()\n",
       "      )\n",
       "    )\n",
       "  )\n",
       "  (1): PoolingLinearClassifier(\n",
       "    (layers): Sequential(\n",
       "      (0): BatchNorm1d(1200, eps=1e-05, momentum=0.1, affine=True, track_running_stats=True)\n",
       "      (1): Dropout(p=0.2, inplace=False)\n",
       "      (2): Linear(in_features=1200, out_features=50, bias=True)\n",
       "      (3): ReLU(inplace=True)\n",
       "      (4): BatchNorm1d(50, eps=1e-05, momentum=0.1, affine=True, track_running_stats=True)\n",
       "      (5): Dropout(p=0.1, inplace=False)\n",
       "      (6): Linear(in_features=50, out_features=5, bias=True)\n",
       "    )\n",
       "  )\n",
       "), opt_func=functools.partial(<class 'torch.optim.adam.Adam'>, betas=(0.9, 0.99)), loss_func=FlattenedLoss of CrossEntropyLoss(), metrics=[<function accuracy at 0x7f247be4fd90>], true_wd=True, bn_wd=True, wd=0.01, train_bn=True, path=PosixPath('/storage/amazon_music_reviews'), model_dir='models', callback_fns=[functools.partial(<class 'fastai.basic_train.Recorder'>, add_time=True, silent=False)], callbacks=[...], layer_groups=[Sequential(\n",
       "  (0): Embedding(10520, 400, padding_idx=1)\n",
       "  (1): EmbeddingDropout(\n",
       "    (emb): Embedding(10520, 400, padding_idx=1)\n",
       "  )\n",
       "), Sequential(\n",
       "  (0): WeightDropout(\n",
       "    (module): LSTM(400, 1152, batch_first=True)\n",
       "  )\n",
       "  (1): RNNDropout()\n",
       "), Sequential(\n",
       "  (0): WeightDropout(\n",
       "    (module): LSTM(1152, 1152, batch_first=True)\n",
       "  )\n",
       "  (1): RNNDropout()\n",
       "), Sequential(\n",
       "  (0): WeightDropout(\n",
       "    (module): LSTM(1152, 400, batch_first=True)\n",
       "  )\n",
       "  (1): RNNDropout()\n",
       "), Sequential(\n",
       "  (0): PoolingLinearClassifier(\n",
       "    (layers): Sequential(\n",
       "      (0): BatchNorm1d(1200, eps=1e-05, momentum=0.1, affine=True, track_running_stats=True)\n",
       "      (1): Dropout(p=0.2, inplace=False)\n",
       "      (2): Linear(in_features=1200, out_features=50, bias=True)\n",
       "      (3): ReLU(inplace=True)\n",
       "      (4): BatchNorm1d(50, eps=1e-05, momentum=0.1, affine=True, track_running_stats=True)\n",
       "      (5): Dropout(p=0.1, inplace=False)\n",
       "      (6): Linear(in_features=50, out_features=5, bias=True)\n",
       "    )\n",
       "  )\n",
       ")], add_time=True, silent=False)\n",
       "alpha: 2.0\n",
       "beta: 1.0], layer_groups=[Sequential(\n",
       "  (0): Embedding(10520, 400, padding_idx=1)\n",
       "  (1): EmbeddingDropout(\n",
       "    (emb): Embedding(10520, 400, padding_idx=1)\n",
       "  )\n",
       "), Sequential(\n",
       "  (0): WeightDropout(\n",
       "    (module): LSTM(400, 1152, batch_first=True)\n",
       "  )\n",
       "  (1): RNNDropout()\n",
       "), Sequential(\n",
       "  (0): WeightDropout(\n",
       "    (module): LSTM(1152, 1152, batch_first=True)\n",
       "  )\n",
       "  (1): RNNDropout()\n",
       "), Sequential(\n",
       "  (0): WeightDropout(\n",
       "    (module): LSTM(1152, 400, batch_first=True)\n",
       "  )\n",
       "  (1): RNNDropout()\n",
       "), Sequential(\n",
       "  (0): PoolingLinearClassifier(\n",
       "    (layers): Sequential(\n",
       "      (0): BatchNorm1d(1200, eps=1e-05, momentum=0.1, affine=True, track_running_stats=True)\n",
       "      (1): Dropout(p=0.2, inplace=False)\n",
       "      (2): Linear(in_features=1200, out_features=50, bias=True)\n",
       "      (3): ReLU(inplace=True)\n",
       "      (4): BatchNorm1d(50, eps=1e-05, momentum=0.1, affine=True, track_running_stats=True)\n",
       "      (5): Dropout(p=0.1, inplace=False)\n",
       "      (6): Linear(in_features=50, out_features=5, bias=True)\n",
       "    )\n",
       "  )\n",
       ")], add_time=True, silent=False)"
      ]
     },
     "execution_count": 26,
     "metadata": {},
     "output_type": "execute_result"
    }
   ],
   "source": [
    "learn = text_classifier_learner(data_clas, AWD_LSTM, drop_mult=0.5)\n",
    "learn.save_encoder('ft_enc')\n",
    "learn.load_encoder('ft_enc')"
   ]
  },
  {
   "cell_type": "code",
   "execution_count": 27,
   "metadata": {},
   "outputs": [],
   "source": [
    "#data_clas.vocab.itos = data_lm.vocab.itos"
   ]
  },
  {
   "cell_type": "code",
   "execution_count": 28,
   "metadata": {},
   "outputs": [],
   "source": [
    "#data_clas.vocab.stoi = data_lm.vocab.stoi\n"
   ]
  },
  {
   "cell_type": "code",
   "execution_count": 29,
   "metadata": {
    "scrolled": false
   },
   "outputs": [],
   "source": [
    "learn = text_classifier_learner(data_clas, AWD_LSTM, drop_mult=0.5)\n"
   ]
  },
  {
   "cell_type": "code",
   "execution_count": 30,
   "metadata": {},
   "outputs": [],
   "source": [
    "#data_clas = TextClasDataBunch.from_csv(path, 'Musical_instruments_reviews2.csv',vocab=data_lm.vocab)\n",
    "#data_clas.save('data_clas.pkl')"
   ]
  },
  {
   "cell_type": "code",
   "execution_count": 31,
   "metadata": {},
   "outputs": [],
   "source": [
    "#data_clas = load_data(path, 'data_lm.pkl', bs=64)\n",
    "#len(data_clas.vocab.itos) == len(data_lm.vocab.itos)"
   ]
  },
  {
   "cell_type": "code",
   "execution_count": 32,
   "metadata": {},
   "outputs": [],
   "source": [
    "#config = awd_lstm_clas_config.copy()\n",
    "#config['n_hid'] = 10608"
   ]
  },
  {
   "cell_type": "code",
   "execution_count": 33,
   "metadata": {
    "scrolled": true
   },
   "outputs": [
    {
     "data": {
      "text/plain": [
       "RNNLearner(data=TextClasDataBunch;\n",
       "\n",
       "Train: LabelList (8208 items)\n",
       "x: TextList\n",
       "xxbos i bought this to use on my xxmaj fender p - bass . xxmaj it is not reliable for me , sometimes it works and sometimes it ca n't find the low note correctly . i 'm still using my xxmaj roland stomp box tuner . xxmaj glad this was inexpensive , it was not worth the hassle to return , i gave it away .,xxbos xxmaj with all the other great reviews noted here , i decided to buy this guitar . xxmaj had a xxmaj rogue 12 string a few years ago and sold it as i was not that impressed with it . xxmaj what a difference with the xxmaj epiphone . xxmaj the fit & finish speaks quality . xxmaj xxunk is very good with low action and good tone . xxmaj really is a great buy !,xxbos xxmaj this product is something every guitar owner needs . xxmaj it is well built , performs well and sells at a very reasonable price . xxmaj the sting cutter works well .,xxbos xxmaj noisy as any compressor but after using it i do n't wanna go back to not having one for my setup .,xxbos i have played the guitar for nearly 50 years now , and wanted an inexpensive small - body steel - string guitar to keep out for xxunk practice and noodling . xxmaj this one fills the bill pretty well . xxmaj build quality is quite good ( made in xxmaj indonesia , not xxmaj china as i had expected ) , and the intonation is perfect . xxmaj the finish has a hard matte surface that will probably wear well . a pick guard is present , but when i removed the plastic shipping protector , the entire guard came up with it . xxmaj the adhesive residue comes right off , so i will play the guitar without a pickguard . xxmaj bracing is light -- the entire guitar is light . xxmaj the body is a bit larger in the lower bout than i expected , but it sits on the lap more comfortably than a dreadnought . i take issue with some reviewers ' suggestions that this would be a good beginner guitar right out of the box . xxmaj the string spacing at the nut is narrower than it should be for the width of the neck , xxunk the fingers . xxmaj the nut should be replaced with one that spaces the strings across the fingerboard just a little more . xxmaj the action may be lowered by xxunk the bridge saddle very carefully , and just a little at a time . xxmaj this work will cost as much as the guitar cost if you take it to a luthier , but if you can do it yourself , will improve the playability of the instrument . xxmaj the strings supplied on the guitar were tinny and cheap , so i replaced them with a set of d'addario xxup ej-16 xxmaj light xxmaj phosphor - xxmaj bronze . xxmaj the improvement in tone was immediate -- this little guitar sounds pretty darn good . xxmaj all in all , with some careful modification , this is a good guitar for the beginner or casual player , and a very acceptable one for the experienced guitarist who can do a little modification him / xxunk .\n",
       "y: CategoryList\n",
       "2,5,5,4,4\n",
       "Path: /storage/amazon_music_reviews;\n",
       "\n",
       "Valid: LabelList (2053 items)\n",
       "x: TextList\n",
       "xxbos i 'm pretty impressed with it . i 've only used plug - in types of tuners prior , and this was a nice surprise . i ran this through my ukulele , electric guitars as well as an electric bass . i was blown away how it could tune my bass . xxmaj it works quickly , and it seems pretty accurate compared to my xxmaj xxunk . i would recommend it to anyone . xxmaj took one star off for visibility . xxmaj certain lighting and certain angles can wash out the display very easily .,xxbos i 've been using xxup gls cable for years now and i never had a problem with it . xxmaj they 're good quality cable and will go a long way if you will take care of it .,xxbos xxmaj awesome tuner , really fast and responsive . xxmaj best of all it is accurate , enough so that using this for setups has xxunk in a much quicker easier process than i had anticipated . xxmaj nice and bright so i can clearly see it on stage in the dark . xxmaj occasionally i get a small pop when i engage it but not that frequently . xxmaj this pedal feels good and sturdy too , i really can not see anyone breaking it unless you feel the need to leap from the monitors on to the switch . xxmaj price is easy enough that if anything should happen to it , i would not think twice about picking another one up .,xxbos xxmaj this amp plug is great for the price its 10 ft long the perfect size for jammin at home and it has a quality look to it aesthetically totally worth the price,xxbos i 've used xxup gls products before and they are good quality for a fair price . xxmaj their microphones do a great job for little cost . i 've been impressed . xxmaj these cables did n't disappoint me , either . xxmaj do n't judge their products on price alone . xxmaj try them first . xxmaj you will be pleased and your bank account will thank you .\n",
       "y: CategoryList\n",
       "4,5,5,5,5\n",
       "Path: /storage/amazon_music_reviews;\n",
       "\n",
       "Test: None, model=SequentialRNN(\n",
       "  (0): MultiBatchEncoder(\n",
       "    (module): AWD_LSTM(\n",
       "      (encoder): Embedding(10520, 400, padding_idx=1)\n",
       "      (encoder_dp): EmbeddingDropout(\n",
       "        (emb): Embedding(10520, 400, padding_idx=1)\n",
       "      )\n",
       "      (rnns): ModuleList(\n",
       "        (0): WeightDropout(\n",
       "          (module): LSTM(400, 1152, batch_first=True)\n",
       "        )\n",
       "        (1): WeightDropout(\n",
       "          (module): LSTM(1152, 1152, batch_first=True)\n",
       "        )\n",
       "        (2): WeightDropout(\n",
       "          (module): LSTM(1152, 400, batch_first=True)\n",
       "        )\n",
       "      )\n",
       "      (input_dp): RNNDropout()\n",
       "      (hidden_dps): ModuleList(\n",
       "        (0): RNNDropout()\n",
       "        (1): RNNDropout()\n",
       "        (2): RNNDropout()\n",
       "      )\n",
       "    )\n",
       "  )\n",
       "  (1): PoolingLinearClassifier(\n",
       "    (layers): Sequential(\n",
       "      (0): BatchNorm1d(1200, eps=1e-05, momentum=0.1, affine=True, track_running_stats=True)\n",
       "      (1): Dropout(p=0.2, inplace=False)\n",
       "      (2): Linear(in_features=1200, out_features=50, bias=True)\n",
       "      (3): ReLU(inplace=True)\n",
       "      (4): BatchNorm1d(50, eps=1e-05, momentum=0.1, affine=True, track_running_stats=True)\n",
       "      (5): Dropout(p=0.1, inplace=False)\n",
       "      (6): Linear(in_features=50, out_features=5, bias=True)\n",
       "    )\n",
       "  )\n",
       "), opt_func=functools.partial(<class 'torch.optim.adam.Adam'>, betas=(0.9, 0.99)), loss_func=FlattenedLoss of CrossEntropyLoss(), metrics=[<function accuracy at 0x7f247be4fd90>], true_wd=True, bn_wd=True, wd=0.01, train_bn=True, path=PosixPath('/storage/amazon_music_reviews'), model_dir='models', callback_fns=[functools.partial(<class 'fastai.basic_train.Recorder'>, add_time=True, silent=False)], callbacks=[RNNTrainer\n",
       "learn: RNNLearner(data=TextClasDataBunch;\n",
       "\n",
       "Train: LabelList (8208 items)\n",
       "x: TextList\n",
       "xxbos i bought this to use on my xxmaj fender p - bass . xxmaj it is not reliable for me , sometimes it works and sometimes it ca n't find the low note correctly . i 'm still using my xxmaj roland stomp box tuner . xxmaj glad this was inexpensive , it was not worth the hassle to return , i gave it away .,xxbos xxmaj with all the other great reviews noted here , i decided to buy this guitar . xxmaj had a xxmaj rogue 12 string a few years ago and sold it as i was not that impressed with it . xxmaj what a difference with the xxmaj epiphone . xxmaj the fit & finish speaks quality . xxmaj xxunk is very good with low action and good tone . xxmaj really is a great buy !,xxbos xxmaj this product is something every guitar owner needs . xxmaj it is well built , performs well and sells at a very reasonable price . xxmaj the sting cutter works well .,xxbos xxmaj noisy as any compressor but after using it i do n't wanna go back to not having one for my setup .,xxbos i have played the guitar for nearly 50 years now , and wanted an inexpensive small - body steel - string guitar to keep out for xxunk practice and noodling . xxmaj this one fills the bill pretty well . xxmaj build quality is quite good ( made in xxmaj indonesia , not xxmaj china as i had expected ) , and the intonation is perfect . xxmaj the finish has a hard matte surface that will probably wear well . a pick guard is present , but when i removed the plastic shipping protector , the entire guard came up with it . xxmaj the adhesive residue comes right off , so i will play the guitar without a pickguard . xxmaj bracing is light -- the entire guitar is light . xxmaj the body is a bit larger in the lower bout than i expected , but it sits on the lap more comfortably than a dreadnought . i take issue with some reviewers ' suggestions that this would be a good beginner guitar right out of the box . xxmaj the string spacing at the nut is narrower than it should be for the width of the neck , xxunk the fingers . xxmaj the nut should be replaced with one that spaces the strings across the fingerboard just a little more . xxmaj the action may be lowered by xxunk the bridge saddle very carefully , and just a little at a time . xxmaj this work will cost as much as the guitar cost if you take it to a luthier , but if you can do it yourself , will improve the playability of the instrument . xxmaj the strings supplied on the guitar were tinny and cheap , so i replaced them with a set of d'addario xxup ej-16 xxmaj light xxmaj phosphor - xxmaj bronze . xxmaj the improvement in tone was immediate -- this little guitar sounds pretty darn good . xxmaj all in all , with some careful modification , this is a good guitar for the beginner or casual player , and a very acceptable one for the experienced guitarist who can do a little modification him / xxunk .\n",
       "y: CategoryList\n",
       "2,5,5,4,4\n",
       "Path: /storage/amazon_music_reviews;\n",
       "\n",
       "Valid: LabelList (2053 items)\n",
       "x: TextList\n",
       "xxbos i 'm pretty impressed with it . i 've only used plug - in types of tuners prior , and this was a nice surprise . i ran this through my ukulele , electric guitars as well as an electric bass . i was blown away how it could tune my bass . xxmaj it works quickly , and it seems pretty accurate compared to my xxmaj xxunk . i would recommend it to anyone . xxmaj took one star off for visibility . xxmaj certain lighting and certain angles can wash out the display very easily .,xxbos i 've been using xxup gls cable for years now and i never had a problem with it . xxmaj they 're good quality cable and will go a long way if you will take care of it .,xxbos xxmaj awesome tuner , really fast and responsive . xxmaj best of all it is accurate , enough so that using this for setups has xxunk in a much quicker easier process than i had anticipated . xxmaj nice and bright so i can clearly see it on stage in the dark . xxmaj occasionally i get a small pop when i engage it but not that frequently . xxmaj this pedal feels good and sturdy too , i really can not see anyone breaking it unless you feel the need to leap from the monitors on to the switch . xxmaj price is easy enough that if anything should happen to it , i would not think twice about picking another one up .,xxbos xxmaj this amp plug is great for the price its 10 ft long the perfect size for jammin at home and it has a quality look to it aesthetically totally worth the price,xxbos i 've used xxup gls products before and they are good quality for a fair price . xxmaj their microphones do a great job for little cost . i 've been impressed . xxmaj these cables did n't disappoint me , either . xxmaj do n't judge their products on price alone . xxmaj try them first . xxmaj you will be pleased and your bank account will thank you .\n",
       "y: CategoryList\n",
       "4,5,5,5,5\n",
       "Path: /storage/amazon_music_reviews;\n",
       "\n",
       "Test: None, model=SequentialRNN(\n",
       "  (0): MultiBatchEncoder(\n",
       "    (module): AWD_LSTM(\n",
       "      (encoder): Embedding(10520, 400, padding_idx=1)\n",
       "      (encoder_dp): EmbeddingDropout(\n",
       "        (emb): Embedding(10520, 400, padding_idx=1)\n",
       "      )\n",
       "      (rnns): ModuleList(\n",
       "        (0): WeightDropout(\n",
       "          (module): LSTM(400, 1152, batch_first=True)\n",
       "        )\n",
       "        (1): WeightDropout(\n",
       "          (module): LSTM(1152, 1152, batch_first=True)\n",
       "        )\n",
       "        (2): WeightDropout(\n",
       "          (module): LSTM(1152, 400, batch_first=True)\n",
       "        )\n",
       "      )\n",
       "      (input_dp): RNNDropout()\n",
       "      (hidden_dps): ModuleList(\n",
       "        (0): RNNDropout()\n",
       "        (1): RNNDropout()\n",
       "        (2): RNNDropout()\n",
       "      )\n",
       "    )\n",
       "  )\n",
       "  (1): PoolingLinearClassifier(\n",
       "    (layers): Sequential(\n",
       "      (0): BatchNorm1d(1200, eps=1e-05, momentum=0.1, affine=True, track_running_stats=True)\n",
       "      (1): Dropout(p=0.2, inplace=False)\n",
       "      (2): Linear(in_features=1200, out_features=50, bias=True)\n",
       "      (3): ReLU(inplace=True)\n",
       "      (4): BatchNorm1d(50, eps=1e-05, momentum=0.1, affine=True, track_running_stats=True)\n",
       "      (5): Dropout(p=0.1, inplace=False)\n",
       "      (6): Linear(in_features=50, out_features=5, bias=True)\n",
       "    )\n",
       "  )\n",
       "), opt_func=functools.partial(<class 'torch.optim.adam.Adam'>, betas=(0.9, 0.99)), loss_func=FlattenedLoss of CrossEntropyLoss(), metrics=[<function accuracy at 0x7f247be4fd90>], true_wd=True, bn_wd=True, wd=0.01, train_bn=True, path=PosixPath('/storage/amazon_music_reviews'), model_dir='models', callback_fns=[functools.partial(<class 'fastai.basic_train.Recorder'>, add_time=True, silent=False)], callbacks=[...], layer_groups=[Sequential(\n",
       "  (0): Embedding(10520, 400, padding_idx=1)\n",
       "  (1): EmbeddingDropout(\n",
       "    (emb): Embedding(10520, 400, padding_idx=1)\n",
       "  )\n",
       "), Sequential(\n",
       "  (0): WeightDropout(\n",
       "    (module): LSTM(400, 1152, batch_first=True)\n",
       "  )\n",
       "  (1): RNNDropout()\n",
       "), Sequential(\n",
       "  (0): WeightDropout(\n",
       "    (module): LSTM(1152, 1152, batch_first=True)\n",
       "  )\n",
       "  (1): RNNDropout()\n",
       "), Sequential(\n",
       "  (0): WeightDropout(\n",
       "    (module): LSTM(1152, 400, batch_first=True)\n",
       "  )\n",
       "  (1): RNNDropout()\n",
       "), Sequential(\n",
       "  (0): PoolingLinearClassifier(\n",
       "    (layers): Sequential(\n",
       "      (0): BatchNorm1d(1200, eps=1e-05, momentum=0.1, affine=True, track_running_stats=True)\n",
       "      (1): Dropout(p=0.2, inplace=False)\n",
       "      (2): Linear(in_features=1200, out_features=50, bias=True)\n",
       "      (3): ReLU(inplace=True)\n",
       "      (4): BatchNorm1d(50, eps=1e-05, momentum=0.1, affine=True, track_running_stats=True)\n",
       "      (5): Dropout(p=0.1, inplace=False)\n",
       "      (6): Linear(in_features=50, out_features=5, bias=True)\n",
       "    )\n",
       "  )\n",
       ")], add_time=True, silent=False)\n",
       "alpha: 2.0\n",
       "beta: 1.0], layer_groups=[Sequential(\n",
       "  (0): Embedding(10520, 400, padding_idx=1)\n",
       "  (1): EmbeddingDropout(\n",
       "    (emb): Embedding(10520, 400, padding_idx=1)\n",
       "  )\n",
       "), Sequential(\n",
       "  (0): WeightDropout(\n",
       "    (module): LSTM(400, 1152, batch_first=True)\n",
       "  )\n",
       "  (1): RNNDropout()\n",
       "), Sequential(\n",
       "  (0): WeightDropout(\n",
       "    (module): LSTM(1152, 1152, batch_first=True)\n",
       "  )\n",
       "  (1): RNNDropout()\n",
       "), Sequential(\n",
       "  (0): WeightDropout(\n",
       "    (module): LSTM(1152, 400, batch_first=True)\n",
       "  )\n",
       "  (1): RNNDropout()\n",
       "), Sequential(\n",
       "  (0): PoolingLinearClassifier(\n",
       "    (layers): Sequential(\n",
       "      (0): BatchNorm1d(1200, eps=1e-05, momentum=0.1, affine=True, track_running_stats=True)\n",
       "      (1): Dropout(p=0.2, inplace=False)\n",
       "      (2): Linear(in_features=1200, out_features=50, bias=True)\n",
       "      (3): ReLU(inplace=True)\n",
       "      (4): BatchNorm1d(50, eps=1e-05, momentum=0.1, affine=True, track_running_stats=True)\n",
       "      (5): Dropout(p=0.1, inplace=False)\n",
       "      (6): Linear(in_features=50, out_features=5, bias=True)\n",
       "    )\n",
       "  )\n",
       ")], add_time=True, silent=False)"
      ]
     },
     "execution_count": 33,
     "metadata": {},
     "output_type": "execute_result"
    }
   ],
   "source": [
    "learn.load_encoder('ft_enc')"
   ]
  },
  {
   "cell_type": "code",
   "execution_count": 34,
   "metadata": {},
   "outputs": [
    {
     "data": {
      "text/html": [
       "<table border=\"1\" class=\"dataframe\">\n",
       "  <thead>\n",
       "    <tr style=\"text-align: right;\">\n",
       "      <th>text</th>\n",
       "      <th>target</th>\n",
       "    </tr>\n",
       "  </thead>\n",
       "  <tbody>\n",
       "    <tr>\n",
       "      <td>xxbos xxup comparisons : i have compared , side by side , the following pedals : xxmaj fulltone mini deja vibe ( $ 200 ) , xxmaj dunlop xxmaj univibe ( discontinued stainless steel xxunk ) , xxmaj dunlop xxmaj roto - vibe ( $ 180 ) , xxmaj voodoo xxmaj labs xxmaj micro xxmaj vibe ( $ 150 ) , xxup bbe xxmaj soul xxmaj bender ( $ 129</td>\n",
       "      <td>5</td>\n",
       "    </tr>\n",
       "    <tr>\n",
       "      <td>xxbos i play 1 - 2 nights a week in a midi - xxunk duo . xxmaj our xxup pa is a pair of xxmaj mackie 15 \" xxmaj thumps ( powered ) on the floor and xxmaj behringer 12 \" xxup xxunk ( powered ) on stands with a xxmaj mackie board . xxmaj we adjust the xxup pa to the room by adding or reducing the number of</td>\n",
       "      <td>4</td>\n",
       "    </tr>\n",
       "  </tbody>\n",
       "</table>"
      ],
      "text/plain": [
       "<IPython.core.display.HTML object>"
      ]
     },
     "metadata": {},
     "output_type": "display_data"
    }
   ],
   "source": [
    "data_clas.show_batch()"
   ]
  },
  {
   "cell_type": "code",
   "execution_count": 35,
   "metadata": {
    "scrolled": true
   },
   "outputs": [
    {
     "data": {
      "text/html": [
       "<table border=\"1\" class=\"dataframe\">\n",
       "  <thead>\n",
       "    <tr style=\"text-align: left;\">\n",
       "      <th>epoch</th>\n",
       "      <th>train_loss</th>\n",
       "      <th>valid_loss</th>\n",
       "      <th>accuracy</th>\n",
       "      <th>time</th>\n",
       "    </tr>\n",
       "  </thead>\n",
       "  <tbody>\n",
       "    <tr>\n",
       "      <td>0</td>\n",
       "      <td>0.837881</td>\n",
       "      <td>1.157871</td>\n",
       "      <td>0.679981</td>\n",
       "      <td>05:20</td>\n",
       "    </tr>\n",
       "  </tbody>\n",
       "</table>"
      ],
      "text/plain": [
       "<IPython.core.display.HTML object>"
      ]
     },
     "metadata": {},
     "output_type": "display_data"
    }
   ],
   "source": [
    "learn.fit_one_cycle(1, 1e-2)"
   ]
  },
  {
   "cell_type": "code",
   "execution_count": 36,
   "metadata": {},
   "outputs": [
    {
     "data": {
      "text/html": [
       "<table border=\"1\" class=\"dataframe\">\n",
       "  <thead>\n",
       "    <tr style=\"text-align: left;\">\n",
       "      <th>epoch</th>\n",
       "      <th>train_loss</th>\n",
       "      <th>valid_loss</th>\n",
       "      <th>accuracy</th>\n",
       "      <th>time</th>\n",
       "    </tr>\n",
       "  </thead>\n",
       "  <tbody>\n",
       "    <tr>\n",
       "      <td>0</td>\n",
       "      <td>0.937447</td>\n",
       "      <td>1.167126</td>\n",
       "      <td>0.679493</td>\n",
       "      <td>05:23</td>\n",
       "    </tr>\n",
       "  </tbody>\n",
       "</table>"
      ],
      "text/plain": [
       "<IPython.core.display.HTML object>"
      ]
     },
     "metadata": {},
     "output_type": "display_data"
    }
   ],
   "source": [
    "learn.freeze_to(-2)\n",
    "learn.fit_one_cycle(1, slice(5e-3/2., 5e-3))"
   ]
  },
  {
   "cell_type": "code",
   "execution_count": 37,
   "metadata": {},
   "outputs": [
    {
     "data": {
      "text/html": [
       "<table border=\"1\" class=\"dataframe\">\n",
       "  <thead>\n",
       "    <tr style=\"text-align: left;\">\n",
       "      <th>epoch</th>\n",
       "      <th>train_loss</th>\n",
       "      <th>valid_loss</th>\n",
       "      <th>accuracy</th>\n",
       "      <th>time</th>\n",
       "    </tr>\n",
       "  </thead>\n",
       "  <tbody>\n",
       "    <tr>\n",
       "      <td>0</td>\n",
       "      <td>1.093196</td>\n",
       "      <td>0.985290</td>\n",
       "      <td>0.679981</td>\n",
       "      <td>05:49</td>\n",
       "    </tr>\n",
       "  </tbody>\n",
       "</table>"
      ],
      "text/plain": [
       "<IPython.core.display.HTML object>"
      ]
     },
     "metadata": {},
     "output_type": "display_data"
    }
   ],
   "source": [
    "learn.unfreeze()\n",
    "learn.fit_one_cycle(1, slice(2e-3/100, 2e-3))"
   ]
  },
  {
   "cell_type": "code",
   "execution_count": 38,
   "metadata": {},
   "outputs": [
    {
     "data": {
      "text/html": [
       "\n",
       "    <div>\n",
       "        <style>\n",
       "            /* Turns off some styling */\n",
       "            progress {\n",
       "                /* gets rid of default border in Firefox and Opera. */\n",
       "                border: none;\n",
       "                /* Needs to be in here for Safari polyfill so background images work as expected. */\n",
       "                background-size: auto;\n",
       "            }\n",
       "            .progress-bar-interrupted, .progress-bar-interrupted::-webkit-progress-bar {\n",
       "                background: #F44336;\n",
       "            }\n",
       "        </style>\n",
       "      <progress value='0' class='' max='1', style='width:300px; height:20px; vertical-align: middle;'></progress>\n",
       "      0.00% [0/1 00:00<00:00]\n",
       "    </div>\n",
       "    \n",
       "<table border=\"1\" class=\"dataframe\">\n",
       "  <thead>\n",
       "    <tr style=\"text-align: left;\">\n",
       "      <th>epoch</th>\n",
       "      <th>train_loss</th>\n",
       "      <th>valid_loss</th>\n",
       "      <th>accuracy</th>\n",
       "      <th>time</th>\n",
       "    </tr>\n",
       "  </thead>\n",
       "  <tbody>\n",
       "  </tbody>\n",
       "</table><p>\n",
       "\n",
       "    <div>\n",
       "        <style>\n",
       "            /* Turns off some styling */\n",
       "            progress {\n",
       "                /* gets rid of default border in Firefox and Opera. */\n",
       "                border: none;\n",
       "                /* Needs to be in here for Safari polyfill so background images work as expected. */\n",
       "                background-size: auto;\n",
       "            }\n",
       "            .progress-bar-interrupted, .progress-bar-interrupted::-webkit-progress-bar {\n",
       "                background: #F44336;\n",
       "            }\n",
       "        </style>\n",
       "      <progress value='89' class='' max='4104', style='width:300px; height:20px; vertical-align: middle;'></progress>\n",
       "      2.17% [89/4104 00:08<06:08 1.3885]\n",
       "    </div>\n",
       "    "
      ],
      "text/plain": [
       "<IPython.core.display.HTML object>"
      ]
     },
     "metadata": {},
     "output_type": "display_data"
    },
    {
     "name": "stdout",
     "output_type": "stream",
     "text": [
      "LR Finder is complete, type {learner_name}.recorder.plot() to see the graph.\n"
     ]
    }
   ],
   "source": [
    "learn.lr_find()"
   ]
  },
  {
   "cell_type": "code",
   "execution_count": 39,
   "metadata": {},
   "outputs": [
    {
     "data": {
      "image/png": "[encoded data removed]",
      "text/plain": [
       "<Figure size 432x288 with 1 Axes>"
      ]
     },
     "metadata": {
      "needs_background": "light"
     },
     "output_type": "display_data"
    }
   ],
   "source": [
    "learn.recorder.plot()\n"
   ]
  },
  {
   "cell_type": "code",
   "execution_count": 40,
   "metadata": {},
   "outputs": [
    {
     "data": {
      "text/html": [
       "<table border=\"1\" class=\"dataframe\">\n",
       "  <thead>\n",
       "    <tr style=\"text-align: left;\">\n",
       "      <th>epoch</th>\n",
       "      <th>train_loss</th>\n",
       "      <th>valid_loss</th>\n",
       "      <th>accuracy</th>\n",
       "      <th>time</th>\n",
       "    </tr>\n",
       "  </thead>\n",
       "  <tbody>\n",
       "    <tr>\n",
       "      <td>0</td>\n",
       "      <td>1.068640</td>\n",
       "      <td>0.942207</td>\n",
       "      <td>0.680955</td>\n",
       "      <td>05:49</td>\n",
       "    </tr>\n",
       "  </tbody>\n",
       "</table>"
      ],
      "text/plain": [
       "<IPython.core.display.HTML object>"
      ]
     },
     "metadata": {},
     "output_type": "display_data"
    }
   ],
   "source": [
    "learn.fit_one_cycle(1, slice(1e-6, 1e-5))"
   ]
  }
 ],
 "metadata": {
  "kernelspec": {
   "display_name": "Python 3",
   "language": "python",
   "name": "python3"
  },
  "language_info": {
   "codemirror_mode": {
    "name": "ipython",
    "version": 3
   },
   "file_extension": ".py",
   "mimetype": "text/x-python",
   "name": "python",
   "nbconvert_exporter": "python",
   "pygments_lexer": "ipython3",
   "version": "3.6.7"
  }
 },
 "nbformat": 4,
 "nbformat_minor": 2
}
